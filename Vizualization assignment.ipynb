{
 "cells": [
  {
   "cell_type": "markdown",
   "id": "5a64354d-1079-4c1e-a76a-ccbfb996afbe",
   "metadata": {},
   "source": [
    "Name- Geetansh Dwivedi\n",
    "\n",
    "github link-https://github.com/geetansh2002/Visualization_Assignment/blob/main/bokeh%20(1).ipynb\n",
    "The above link is unclickable because aof conversion ofipynp file to pdf .\n",
    "\n",
    "so please do not fail me again instead you can check the code written below or you can use google lence to opne link"
   ]
  },
  {
   "cell_type": "markdown",
   "id": "d9f73ae8-dc42-4e50-abbc-9eee2193e06b",
   "metadata": {},
   "source": [
    "MATPLOTLIB ASSIGNMENT:"
   ]
  },
  {
   "cell_type": "code",
   "execution_count": null,
   "id": "3816940d-ba08-4cc0-8359-4241ab88ec0a",
   "metadata": {},
   "outputs": [],
   "source": [
    "import matplotlib.pyplot as plt\n",
    "import numpy as np \n",
    "import seaborn as sns\n",
    "import pandas as pd"
   ]
  },
  {
   "cell_type": "markdown",
   "id": "2bd537fb-0056-4f83-82f2-525e385df7b9",
   "metadata": {},
   "source": [
    "1. Create a scatter plot using Matplotlib to visualize the relationship between two arrays, x and y for the given\n",
    "data."
   ]
  },
  {
   "cell_type": "code",
   "execution_count": null,
   "id": "4e759cce-51a7-4729-8c0b-08722b7b6316",
   "metadata": {},
   "outputs": [],
   "source": [
    "x = [1, 2, 3, 4, 5, 6, 7, 8, 9, 10]\n",
    "y = [2, 4, 5, 7, 6, 8, 9, 10, 12, 13]\n",
    "plt.scatter(x,y)"
   ]
  },
  {
   "cell_type": "markdown",
   "id": "25a2d0ba-8668-420d-ba83-580f1b3dcb1d",
   "metadata": {},
   "source": [
    "2. Generate a line plot to visualize the trend of values for the given data."
   ]
  },
  {
   "cell_type": "code",
   "execution_count": null,
   "id": "b9268a82-2edc-448b-a4d3-21897df9866e",
   "metadata": {},
   "outputs": [],
   "source": [
    "data = np.array([3, 7, 9, 15, 22, 29, 35])\n",
    "plt.plot(data,label=\"line\",marker=\"o\")"
   ]
  },
  {
   "cell_type": "markdown",
   "id": "d8f5aed5-e972-4914-9892-96c9387e5d5c",
   "metadata": {},
   "source": [
    "3. Display a bar chart to represent the frequency of each item in the given array categories."
   ]
  },
  {
   "cell_type": "code",
   "execution_count": null,
   "id": "959df0ff-09a6-42c7-90ad-1d579b5a0014",
   "metadata": {},
   "outputs": [],
   "source": [
    "categories = ['A', 'B', 'C', 'D', 'E']\n",
    "values = [25, 40, 30, 35, 20]\n",
    "plt.bar(categories,values,color=\"skyblue\")"
   ]
  },
  {
   "cell_type": "markdown",
   "id": "7f726862-e1e0-41ed-a09f-5f472b6ea5b2",
   "metadata": {},
   "source": [
    "4. Create a histogram to visualize the distribution of values in the array data."
   ]
  },
  {
   "cell_type": "code",
   "execution_count": null,
   "id": "d06ab03e-8342-40cd-9539-706742185ec1",
   "metadata": {},
   "outputs": [],
   "source": [
    "data = np.random.normal(0, 1, 1000)\n",
    "plt.hist(data,color=\"skyblue\")\n",
    "plt.show()"
   ]
  },
  {
   "cell_type": "markdown",
   "id": "9cdab69c-4ad1-4628-809d-18f3c59eb283",
   "metadata": {},
   "source": [
    "5. Show a pie chart to represent the percentage distribution of different sections in the array `sections."
   ]
  },
  {
   "cell_type": "code",
   "execution_count": null,
   "id": "920bb507-326e-4504-a610-243dc0df9753",
   "metadata": {},
   "outputs": [],
   "source": [
    "sections = ['Section A', 'Section B', 'Section C', 'Section D']\n",
    "sizes = [25, 30, 15, 30]\n",
    "plt.pie(sizes,labels=sections,autopct=\"%1.2f%%\")\n",
    "plt.title(\"Percentage Distribution of Sections\")\n",
    "plt.show()"
   ]
  },
  {
   "cell_type": "markdown",
   "id": "20147e20-5bc4-46d9-b626-ad0293bed98b",
   "metadata": {},
   "source": [
    "SEABORN ASSIGNMENT:"
   ]
  },
  {
   "cell_type": "markdown",
   "id": "4ec27b5f-9248-4657-975f-c881eb27da4d",
   "metadata": {},
   "source": [
    "1. Create a scatter plot to visualize the relationship between two variables, by generating a synthetic\n",
    "dataset."
   ]
  },
  {
   "cell_type": "code",
   "execution_count": null,
   "id": "4415e325-7d7b-41e1-a976-fad398aa4b19",
   "metadata": {},
   "outputs": [],
   "source": [
    "np.random.seed(42)\n",
    "x = np.random.rand(50) * 10  \n",
    "y = 2.5 * x + np.random.randn(50) * 5 \n",
    "plt.figure(figsize=(8, 5))\n",
    "plt.scatter(x, y, color='teal', edgecolor='black', alpha=0.7)\n",
    "plt.title(\"Scatter Plot of Synthetic Data\")\n",
    "plt.xlabel(\"Variable X\")\n",
    "plt.ylabel(\"Variable Y\")\n",
    "plt.grid(True)\n",
    "plt.show()"
   ]
  },
  {
   "cell_type": "markdown",
   "id": "a250a0d4-7c93-4818-ba9d-12cb71f86fbd",
   "metadata": {},
   "source": [
    "2. Generate a dataset of random numbers. Visualize the distribution of a numerical variable."
   ]
  },
  {
   "cell_type": "code",
   "execution_count": null,
   "id": "8fa83cc3-d69d-495c-8426-3829f6553080",
   "metadata": {},
   "outputs": [],
   "source": [
    "np.random.seed(42)  \n",
    "data = np.random.randn(1000) \n",
    "plt.figure(figsize=(8, 5))\n",
    "plt.hist(data, bins=30, color='skyblue', edgecolor='black', alpha=0.7)\n",
    "plt.title(\"Distribution of Randomly Generated Data\")\n",
    "plt.xlabel(\"Value\")\n",
    "plt.ylabel(\"Frequency\")\n",
    "plt.grid(True)\n",
    "plt.show()"
   ]
  },
  {
   "cell_type": "markdown",
   "id": "001b97e8-357c-471c-b6aa-7594ffe3ca4a",
   "metadata": {},
   "source": [
    "3. Create a dataset representing categories and their corresponding values. Compare different categories\n",
    "based on numerical values."
   ]
  },
  {
   "cell_type": "code",
   "execution_count": null,
   "id": "507a1ce4-1f5a-4790-a2d5-e415db73e43b",
   "metadata": {},
   "outputs": [],
   "source": [
    "categories = ['Category A', 'Category B', 'Category C', 'Category D']\n",
    "values = [35, 50, 25, 40]\n",
    "plt.figure(figsize=(8, 5))\n",
    "plt.bar(categories, values, color='orange', edgecolor='black')\n",
    "plt.title(\"Comparison of Categories\")\n",
    "plt.xlabel(\"Categories\")\n",
    "plt.ylabel(\"Values\")\n",
    "plt.grid(axis='y', linestyle='--', alpha=0.7)\n",
    "plt.show()"
   ]
  },
  {
   "cell_type": "markdown",
   "id": "9cd7c3bf-208f-4d1b-a91c-915e8bd6d17e",
   "metadata": {},
   "source": [
    "4. Generate a dataset with categories and numerical values. Visualize the distribution of a numerical\n",
    "variable across different categories."
   ]
  },
  {
   "cell_type": "code",
   "execution_count": null,
   "id": "b488c751-14d4-4a14-b1f3-ae095dee6d37",
   "metadata": {},
   "outputs": [],
   "source": [
    "np.random.seed(42)\n",
    "data = {\n",
    "    'Category': np.random.choice(['Category A', 'Category B', 'Category C', 'Category D'], 100),\n",
    "    'Value': np.random.randn(100) * 10 + 50\n",
    "}\n",
    "df = pd.DataFrame(data)\n",
    "plt.figure(figsize=(8, 6))\n",
    "sns.boxplot(x='Category', y='Value', data=df, palette='Set2')\n",
    "plt.title(\"Distribution of Values Across Categories\")\n",
    "plt.xlabel(\"Categories\")\n",
    "plt.ylabel(\"Values\")\n",
    "plt.grid(True)\n",
    "\n",
    "plt.show()"
   ]
  },
  {
   "cell_type": "markdown",
   "id": "f55b53b3-b481-4f1d-baf7-6f6eef575f22",
   "metadata": {},
   "source": [
    "5. Generate a synthetic dataset with correlated features. Visualize the correlation matrix of a dataset using a\n",
    "heatmap."
   ]
  },
  {
   "cell_type": "code",
   "execution_count": null,
   "id": "a95c1d90-f1ab-4556-bab4-8f15b2110868",
   "metadata": {},
   "outputs": [],
   "source": [
    "np.random.seed(42)\n",
    "data = {\n",
    "    'Feature1': np.random.randn(100),\n",
    "    'Feature2': np.random.randn(100) * 0.5 + 2,\n",
    "    'Feature3': np.random.randn(100) * 2 + 5,\n",
    "    'Feature4': np.random.randn(100) + np.random.randn(100) * 0.3\n",
    "}\n",
    "df_corr = pd.DataFrame(data)\n",
    "corr_matrix = df_corr.corr()\n",
    "plt.figure(figsize=(8, 6))\n",
    "sns.heatmap(corr_matrix, annot=True, cmap='coolwarm', linewidths=0.5)\n",
    "plt.title(\"Correlation Matrix Heatmap\")\n",
    "plt.show()"
   ]
  },
  {
   "cell_type": "markdown",
   "id": "4ecd495b-05bc-4700-b4a4-a89df4357cec",
   "metadata": {},
   "source": [
    "PLOTLY ASSIGNMENT :"
   ]
  },
  {
   "cell_type": "markdown",
   "id": "b9e47166-1d54-4d03-8e43-1bfbc0356730",
   "metadata": {},
   "source": [
    "Q1. Using the given dataset, to generate a 3D scatter plot to visualize the distribution of data points in a threedimensional space."
   ]
  },
  {
   "cell_type": "code",
   "execution_count": null,
   "id": "382f8678-9bf1-474b-96d8-ca6e54dff1cb",
   "metadata": {},
   "outputs": [],
   "source": [
    "import plotly.express as px\n",
    "import pandas as pd\n",
    "import numpy as np\n",
    "\n",
    "\n",
    "np.random.seed(30)\n",
    "data = {\n",
    "    'X': np.random.uniform(-10, 10, 300),\n",
    "    'Y': np.random.uniform(-10, 10, 300),\n",
    "    'Z': np.random.uniform(-10, 10, 300)\n",
    "}\n",
    "\n",
    "df = pd.DataFrame(data)\n",
    "fig = px.scatter_3d(df, x='X', y='Y', z='Z', title='3D Scatter Plot', labels={'X': 'X-axis', 'Y': 'Y-axis', 'Z': 'Z-axis'})\n",
    "fig.show()\n"
   ]
  },
  {
   "cell_type": "markdown",
   "id": "eeaa5f3b-9ab3-45aa-8907-b38191931cf7",
   "metadata": {},
   "source": [
    "Q2. Using the Student Grades, create a violin plot to display the distribution of scores across different grade\r\n",
    "categories."
   ]
  },
  {
   "cell_type": "code",
   "execution_count": null,
   "id": "ab32cfc4-237e-47d8-a7f9-fd3f66139c87",
   "metadata": {},
   "outputs": [],
   "source": [
    "import pandas as pd\n",
    "import numpy as np\n",
    "import plotly.express as px\n",
    "\n",
    "np.random.seed(15)\n",
    "\n",
    "data = {\n",
    "    'Grade': np.random.choice(['A', 'B', 'C', 'D', 'F'], 200),\n",
    "    'Score': np.random.randint(50, 100, 200) \n",
    "}\n",
    "\n",
    "df = pd.DataFrame(data)\n",
    "\n",
    "fig = px.violin(df, x='Grade', y='Score', box=True, points=\"all\", title=\"Distribution of Scores Across Different Grade Categories\", \n",
    "                labels={'Grade': 'Grade', 'Score': 'Score'})\n",
    "\n",
    "fig.show()"
   ]
  },
  {
   "cell_type": "markdown",
   "id": "36ab24cf-b8cc-4843-805d-2a7f8548322d",
   "metadata": {},
   "source": [
    "Q3. Using the sales data, generate a heatmap to visualize the variation in sales across\r\n",
    "different months and days."
   ]
  },
  {
   "cell_type": "code",
   "execution_count": null,
   "id": "11e98ab6-5a81-45e3-9859-4a26bc43a9ec",
   "metadata": {},
   "outputs": [],
   "source": [
    "import pandas as pd\n",
    "import numpy as np\n",
    "import plotly.express as px\n",
    "\n",
    "# Set the random seed for reproducibility\n",
    "np.random.seed(20)\n",
    "\n",
    "# Generate the data\n",
    "data = {\n",
    "    'Month': np.random.choice(['Jan', 'Feb', 'Mar', 'Apr', 'May'], 100),\n",
    "    'Day': np.random.choice(range(1, 31), 100), \n",
    "    'Sales': np.random.randint(1000, 5000, 100)\n",
    "}\n",
    "\n",
    "df = pd.DataFrame(data)\n",
    "\n",
    "heatmap_data = df.pivot_table(index='Day', columns='Month', values='Sales', aggfunc='mean')\n",
    "\n",
    "fig = px.imshow(heatmap_data, \n",
    "                labels={'x': 'Month', 'y': 'Day', 'color': 'Average Sales'}, \n",
    "                title='Sales Variation Across Different Months and Days')\n",
    "fig.show()\n"
   ]
  },
  {
   "cell_type": "markdown",
   "id": "2f5dd405-a4eb-4990-86b3-162392266331",
   "metadata": {},
   "source": [
    "Q4. Using the given x and y data, generate a 3D surface plot to visualize the function z=sin(sqrt((x^2+y^2))"
   ]
  },
  {
   "cell_type": "code",
   "execution_count": null,
   "id": "c13e2c68-5778-46be-9944-c8b80e2a7123",
   "metadata": {},
   "outputs": [],
   "source": [
    "import numpy as np\n",
    "import pandas as pd\n",
    "import plotly.express as px\n",
    "x = np.linspace(-5, 5, 100)  \n",
    "y = np.linspace(-5, 5, 100)  \n",
    "x, y = np.meshgrid(x, y)  \n",
    "\n",
    "z = np.sin(np.sqrt(x**2 + y**2))\n",
    "\n",
    "data = {\n",
    "    'X': x.flatten(),\n",
    "    'Y': y.flatten(),\n",
    "    'Z': z.flatten()\n",
    "}\n",
    "df = pd.DataFrame(data)\n",
    "fig = px.scatter_3d(df, x='X', y='Y', z='Z', title='3D Scatter Plot of z = sin(sqrt(x^2 + y^2))')\n",
    "fig.show()"
   ]
  },
  {
   "cell_type": "markdown",
   "id": "5aaa265d-93e6-49a0-8e1d-08f8a30a9dec",
   "metadata": {},
   "source": [
    "Q5. Using the given dataset, create a bubble chart to represent each country's population (y-axis), GDP (xaxis), and bubble size proportional to the population."
   ]
  },
  {
   "cell_type": "markdown",
   "id": "4e2a613f-a6ac-4b76-805d-b5e59674bea1",
   "metadata": {},
   "source": [
    "Bokeh Assignment :"
   ]
  },
  {
   "cell_type": "markdown",
   "id": "9fc167d8-c1f5-4b91-a918-9e25d644a80e",
   "metadata": {},
   "source": [
    "Q1.Create a Bokeh plot displaying a sine wave. Set x-values from 0 to 10 and y-values as the sine of x."
   ]
  },
  {
   "cell_type": "code",
   "execution_count": null,
   "id": "a131c926-9da5-49d4-8610-e55973a26d89",
   "metadata": {},
   "outputs": [],
   "source": [
    "import bokeh.io\n",
    "import numpy as np\n",
    "from bokeh.plotting import figure, show\n",
    "bokeh.io.output_notebook()\n",
    "x=np.linspace(0,10,500)\n",
    "y=np.sin(x)\n",
    "p=figure(title='bokehQ1', x_range=(0,10))\n",
    "p.line(x,y)\n",
    "show(p)"
   ]
  },
  {
   "cell_type": "markdown",
   "id": "c33d073d-7020-44fe-8c88-53212aa0256e",
   "metadata": {},
   "source": [
    "Q.2.Create a Bokeh scatter plot using randomly generated x and y values. Use different sizes and colors for the\r\n",
    "markers based on the 'sizes' and 'colors' columns."
   ]
  },
  {
   "cell_type": "code",
   "execution_count": null,
   "id": "5d6f52dd-93c6-475c-934b-04307b1d3cd3",
   "metadata": {},
   "outputs": [],
   "source": [
    "import bokeh.io\n",
    "import numpy as np\n",
    "from bokeh.plotting import figure, show\n",
    "from bokeh.models import ColumnDataSource\n",
    "import random\n",
    "bokeh.io.output_notebook()\n",
    "np.random.seed(42) \n",
    "x = np.random.rand(100) * 10  \n",
    "y = np.random.rand(100) * 10  \n",
    "sizes = np.random.randint(5, 20, 100) \n",
    "colors = [f\"#{random.randint(0, 0xFFFFFF):06x}\" for _ in range(100)]\n",
    "source = ColumnDataSource(data=dict(x=x, y=y, sizes=sizes, colors=colors))\n",
    "p = figure(title=\"bokehQ2\", x_axis_label='x', y_axis_label='y')\n",
    "p.scatter('x', 'y', size='sizes', color='colors', source=source, alpha=0.6)\n",
    "show(p)"
   ]
  },
  {
   "cell_type": "markdown",
   "id": "3b6c9556-f861-4539-92e2-4cf253c240ec",
   "metadata": {},
   "source": [
    "Q.2 Generate a Bokeh bar chart representing the counts of different fruits using the following dataset."
   ]
  },
  {
   "cell_type": "code",
   "execution_count": null,
   "id": "daad4ea8-d2d6-4d3a-aa3c-1d83bb44d761",
   "metadata": {},
   "outputs": [],
   "source": [
    "import bokeh.io\n",
    "import numpy as np\n",
    "from bokeh.plotting import figure, show\n",
    "from bokeh.models import ColumnDataSource\n",
    "fruits = ['Apples','Oranges','Bananas','Pears']\n",
    "counts = [20, 25, 30, 35]\n",
    "source = ColumnDataSource(data=dict(fruits=fruits, counts=counts))\n",
    "p = figure(title=\"bokehQ3\", x_axis_label='Fruits', y_axis_label='Counts',x_range=fruits,y_range=(0, max(counts)+5))\n",
    "p.vbar(x='fruits',top='counts',width=0.2,source=source,color=\"red\")\n",
    "show(p)"
   ]
  },
  {
   "cell_type": "markdown",
   "id": "3cd4e7ce-4ed7-4f33-b832-6a3018c3f845",
   "metadata": {},
   "source": [
    "Q.4. Create a Bokeh histogram to visualize the distribution of the given data."
   ]
  },
  {
   "cell_type": "code",
   "execution_count": null,
   "id": "50bb2c69-2063-435b-a311-b576d78639b4",
   "metadata": {},
   "outputs": [],
   "source": [
    "import bokeh.io\n",
    "import numpy as np\n",
    "from bokeh.plotting import figure, show\n",
    "from bokeh.models import ColumnDataSource\n",
    "from bokeh.palettes import Spectral11\n",
    "bokeh.io.output_notebook()\n",
    "data = np.random.randn(1000)\n",
    "hist, edges = np.histogram(data, bins=30) \n",
    "source = ColumnDataSource(data=dict(top=hist, left=edges[:-1], right=edges[1:], bottom=[0] * len(hist)))\n",
    "p = figure(title=\"Histogram\", x_axis_label='Value', y_axis_label='Frequency', \n",
    "           tools=\"pan,box_zoom,reset,save\")\n",
    "p.quad(top='top', bottom='bottom', left='left', right='right', \n",
    "       source=source, fill_color=Spectral11[0], line_color=\"white\", alpha=0.6)\n",
    "show(p)"
   ]
  },
  {
   "cell_type": "markdown",
   "id": "3eca3de4-271d-42ec-9c73-3e8949ebad4d",
   "metadata": {},
   "source": [
    "5. Create a Bokeh heatmap using the provided dataset."
   ]
  },
  {
   "cell_type": "code",
   "execution_count": null,
   "id": "6bf7c428-eae0-450e-a797-057831767858",
   "metadata": {},
   "outputs": [],
   "source": [
    "import bokeh.io\n",
    "import numpy as np\n",
    "from bokeh.plotting import figure, show\n",
    "from bokeh.models import ColorBar\n",
    "from bokeh.transform import linear_cmap\n",
    "from bokeh.palettes import Viridis256\n",
    "from bokeh.io import output_notebook\n",
    "output_notebook()\n",
    "x = np.linspace(0, 1, 10)\n",
    "y = np.linspace(0, 1, 10)\n",
    "xx, yy = np.meshgrid(x, y)\n",
    "zz = np.sin(xx * yy)\n",
    "from bokeh.models import LinearColorMapper\n",
    "from bokeh.palettes import Viridis256\n",
    "color_mapper = LinearColorMapper(palette=Viridis256, low=zz.min(), high=zz.max())\n",
    "p = figure(title=\"Heatmap Example\", x_axis_label='X', y_axis_label='Y', toolbar_location=None)\n",
    "p.image(image=[zz], x=0, y=0, dw=1, dh=1, color_mapper=color_mapper)\n",
    "color_bar = ColorBar(color_mapper=color_mapper, width=8, location=(0, 0))\n",
    "p.add_layout(color_bar, 'right')\n",
    "show(p)"
   ]
  },
  {
   "cell_type": "code",
   "execution_count": null,
   "id": "90fb6d0c-7708-4a7d-a7f7-9ccda87125e0",
   "metadata": {},
   "outputs": [],
   "source": []
  },
  {
   "cell_type": "code",
   "execution_count": null,
   "id": "51774859-7ce4-42fc-9f49-fc53c1883175",
   "metadata": {},
   "outputs": [],
   "source": []
  }
 ],
 "metadata": {
  "kernelspec": {
   "display_name": "Python 3 (ipykernel)",
   "language": "python",
   "name": "python3"
  },
  "language_info": {
   "codemirror_mode": {
    "name": "ipython",
    "version": 3
   },
   "file_extension": ".py",
   "mimetype": "text/x-python",
   "name": "python",
   "nbconvert_exporter": "python",
   "pygments_lexer": "ipython3",
   "version": "3.12.4"
  }
 },
 "nbformat": 4,
 "nbformat_minor": 5
}
