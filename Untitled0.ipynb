{
  "cells": [
    {
      "cell_type": "markdown",
      "source": [
        "4. Python Program Using Multithreading with a Lock."
      ],
      "metadata": {
        "id": "XSpDbajAV6Jt"
      }
    },
    {
      "cell_type": "code",
      "source": [
        "import threading\n",
        "import time\n",
        "shared_list = []\n",
        "lock = threading.Lock()\n",
        "\n",
        "def add_numbers():\n",
        "    for i in range(1, 6):\n",
        "        with lock:\n",
        "            shared_list.append(i)\n",
        "            print(f\"Added: {i}\")\n",
        "        time.sleep(0.5)\n",
        "\n",
        "def remove_numbers():\n",
        "    for _ in range(5):\n",
        "        with lock:\n",
        "            if shared_list:\n",
        "                removed = shared_list.pop(0)\n",
        "                print(f\"Removed: {removed}\")\n",
        "        time.sleep(1)\n",
        "thread1 = threading.Thread(target=add_numbers)\n",
        "thread2 = threading.Thread(target=remove_numbers)\n",
        "thread1.start()\n",
        "thread2.start()\n",
        "thread1.join()\n",
        "thread2.join()\n",
        "print(\"Final list:\", shared_list)"
      ],
      "metadata": {
        "id": "NX8PpfUqV88m"
      },
      "execution_count": null,
      "outputs": []
    },
    {
      "cell_type": "markdown",
      "source": [
        "7. Python Program Using a Thread Pool to Calculate Factorials."
      ],
      "metadata": {
        "id": "gw8dz6dwWE8P"
      }
    },
    {
      "cell_type": "code",
      "source": [
        "from concurrent.futures import ThreadPoolExecutor\n",
        "import math\n",
        "def factorial(n):\n",
        "    return math.factorial(n)\n",
        "if __name__ == \"__main__\":\n",
        "    with ThreadPoolExecutor(max_workers=5) as executor:\n",
        "        results = list(executor.map(factorial, range(1, 11)))\n",
        "    print(\"Factorials from 1 to 10:\", results)"
      ],
      "metadata": {
        "id": "Jb1pn2ZnWJK8"
      },
      "execution_count": null,
      "outputs": []
    },
    {
      "cell_type": "markdown",
      "source": [
        "8. Python Program Using Multiprocessing Pool to Compute Squares.\n"
      ],
      "metadata": {
        "id": "n6SmekpiWN1F"
      }
    },
    {
      "cell_type": "code",
      "source": [
        "import multiprocessing\n",
        "import time\n",
        "def square(n):\n",
        "    return n * n\n",
        "def compute_squares(pool_size):\n",
        "    with multiprocessing.Pool(pool_size) as pool:\n",
        "        start_time = time.time()\n",
        "        results = pool.map(square, range(1, 11))\n",
        "        end_time = time.time()\n",
        "        print(f\"Pool Size {pool_size} - Results: {results}, Time taken: {end_time - start_time:.4f} seconds\")\n",
        "if __name__ == \"__main__\":\n",
        "    for size in [2, 4, 8]:\n",
        "        compute_squares(size)"
      ],
      "metadata": {
        "id": "Opu-mxDjWThJ"
      },
      "execution_count": null,
      "outputs": []
    }
  ],
  "metadata": {
    "colab": {
      "provenance": []
    },
    "kernelspec": {
      "display_name": "Python 3",
      "name": "python3"
    },
    "language_info": {
      "name": "python"
    }
  },
  "nbformat": 4,
  "nbformat_minor": 0
}